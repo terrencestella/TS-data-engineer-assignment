{
 "cells": [
  {
   "cell_type": "code",
   "execution_count": 77,
   "metadata": {},
   "outputs": [],
   "source": [
    "from pyspark.sql import SparkSession\n",
    "import os"
   ]
  },
  {
   "cell_type": "code",
   "execution_count": 80,
   "metadata": {},
   "outputs": [],
   "source": [
    "#to get the current working directory\n",
    "dir = os.getcwd()"
   ]
  },
  {
   "cell_type": "code",
   "execution_count": 2,
   "metadata": {},
   "outputs": [],
   "source": [
    "spark = SparkSession.builder.appName('pipeline').getOrCreate()"
   ]
  },
  {
   "cell_type": "code",
   "execution_count": 81,
   "metadata": {},
   "outputs": [],
   "source": [
    "clients = spark.read.csv(fr'{dir}\\dataset_one.csv',header=True)\n",
    "financials = spark.read.csv(fr'{dir}\\dataset_two.csv',header=True)"
   ]
  },
  {
   "cell_type": "code",
   "execution_count": 15,
   "metadata": {},
   "outputs": [],
   "source": [
    "filter_countries = ['United Kingdom', 'Netherlands']"
   ]
  },
  {
   "cell_type": "code",
   "execution_count": 37,
   "metadata": {},
   "outputs": [],
   "source": [
    "renaming_columns = {\n",
    "    'id':'client_identifier',\n",
    "    'btc_a':'bitcoin_address',\n",
    "    'cc_t':'credit_card_type'\n",
    "    }"
   ]
  },
  {
   "cell_type": "code",
   "execution_count": 20,
   "metadata": {},
   "outputs": [],
   "source": [
    "# this function takes two arguments, 1) the dataframe which needs to be filtered\n",
    "# 2) a list with values on which needs to be filtered \n",
    "def filter_country(df,filter_countries):\n",
    "    # in this step, a filter on the attribute \"country\" is applied\n",
    "    # for each country that is passed on in the list, that country will\n",
    "    # be in the final version of the dataframe\n",
    "    df = df.filter(df['country'].isin(filter_countries))\n",
    "    # the function returns the filtered dataframe\n",
    "    return df"
   ]
  },
  {
   "cell_type": "code",
   "execution_count": 25,
   "metadata": {},
   "outputs": [],
   "source": [
    "# this function takes two arguments, 1) the dataframe which needs to be modified\n",
    "# 2) a single column name which needs to be dropped from the dataframe\n",
    "def drop_column(df,column):\n",
    "    # in this step, a column is dropped from the dataframe\n",
    "    df = df.drop(column)\n",
    "    # the function returns the modified dataframe\n",
    "    return df"
   ]
  },
  {
   "cell_type": "code",
   "execution_count": 55,
   "metadata": {},
   "outputs": [],
   "source": [
    "def join_dfs(df_a,df_b,on_column,join_type):\n",
    "    df = df_a.join(df_b,[on_column], join_type)\n",
    "    return df"
   ]
  },
  {
   "cell_type": "code",
   "execution_count": 40,
   "metadata": {},
   "outputs": [],
   "source": [
    "def rename_column(df,a,b):\n",
    "    df = df.withColumnRenamed(a,b)\n",
    "    return df"
   ]
  },
  {
   "cell_type": "code",
   "execution_count": 21,
   "metadata": {},
   "outputs": [],
   "source": [
    "clients = filter_country(clients,filter_countries)"
   ]
  },
  {
   "cell_type": "code",
   "execution_count": 27,
   "metadata": {},
   "outputs": [],
   "source": [
    "clients = drop_column(clients,'email')"
   ]
  },
  {
   "cell_type": "code",
   "execution_count": 33,
   "metadata": {},
   "outputs": [],
   "source": [
    "financials = drop_column(financials,'cc_n')"
   ]
  },
  {
   "cell_type": "code",
   "execution_count": 56,
   "metadata": {},
   "outputs": [],
   "source": [
    "df = join_dfs(clients,financials,'id','inner')"
   ]
  },
  {
   "cell_type": "code",
   "execution_count": 57,
   "metadata": {},
   "outputs": [],
   "source": [
    "for column in renaming_columns:\n",
    "    df = rename_column(df,column,renaming_columns[column])"
   ]
  },
  {
   "cell_type": "code",
   "execution_count": 82,
   "metadata": {},
   "outputs": [],
   "source": [
    "df.toPandas().to_csv(fr'{dir}\\client_data\\dataset.csv')"
   ]
  },
  {
   "cell_type": "code",
   "execution_count": 12,
   "metadata": {},
   "outputs": [],
   "source": [
    "import logging\n",
    "from logging.handlers import TimedRotatingFileHandler\n",
    "from datetime import datetime"
   ]
  },
  {
   "cell_type": "code",
   "execution_count": 13,
   "metadata": {},
   "outputs": [],
   "source": [
    "def setup_logging():\n",
    "    # Create a logger\n",
    "    logger = logging.getLogger(\"DailyLogger\")\n",
    "    logger.setLevel(logging.INFO)  # Set logging level to INFO or DEBUG as per your need\n",
    "\n",
    "    # Create a handler that writes log messages to a file, with a daily log rotation\n",
    "    handler = TimedRotatingFileHandler('daily_log_{}.log'.format(datetime.now().strftime('%Y_%m_%d')), when=\"midnight\", interval=1, backupCount=30)\n",
    "    handler.setFormatter(logging.Formatter('%(asctime)s - %(name)s - %(levelname)s - %(message)s'))\n",
    "\n",
    "    # Add the handler to the logger\n",
    "    logger.addHandler(handler)\n",
    "\n",
    "    return logger"
   ]
  },
  {
   "cell_type": "code",
   "execution_count": 14,
   "metadata": {},
   "outputs": [],
   "source": [
    "logger = setup_logging()"
   ]
  },
  {
   "cell_type": "code",
   "execution_count": 8,
   "metadata": {},
   "outputs": [],
   "source": [
    "# Now, log messages using the logger\n",
    "logger.info(\"This is an info message\")"
   ]
  },
  {
   "cell_type": "code",
   "execution_count": 9,
   "metadata": {},
   "outputs": [],
   "source": []
  },
  {
   "cell_type": "code",
   "execution_count": 11,
   "metadata": {},
   "outputs": [
    {
     "data": {
      "text/plain": [
       "'2023_10_19'"
      ]
     },
     "execution_count": 11,
     "metadata": {},
     "output_type": "execute_result"
    }
   ],
   "source": []
  },
  {
   "cell_type": "code",
   "execution_count": null,
   "metadata": {},
   "outputs": [],
   "source": []
  }
 ],
 "metadata": {
  "kernelspec": {
   "display_name": "Python 3",
   "language": "python",
   "name": "python3"
  },
  "language_info": {
   "codemirror_mode": {
    "name": "ipython",
    "version": 3
   },
   "file_extension": ".py",
   "mimetype": "text/x-python",
   "name": "python",
   "nbconvert_exporter": "python",
   "pygments_lexer": "ipython3",
   "version": "3.11.5"
  },
  "orig_nbformat": 4,
  "vscode": {
   "interpreter": {
    "hash": "26de051ba29f2982a8de78e945f0abaf191376122a1563185a90213a26c5da77"
   }
  }
 },
 "nbformat": 4,
 "nbformat_minor": 2
}
